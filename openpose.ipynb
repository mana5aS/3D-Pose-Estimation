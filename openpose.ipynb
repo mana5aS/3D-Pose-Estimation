{
  "nbformat": 4,
  "nbformat_minor": 0,
  "metadata": {
    "accelerator": "GPU",
    "colab": {
      "name": "Module1_OpenPose.ipynb",
      "provenance": [],
      "collapsed_sections": []
    },
    "kernelspec": {
      "display_name": "Python 3",
      "name": "python3"
    }
  },
  "cells": [
    {
      "cell_type": "markdown",
      "metadata": {
        "id": "X38L6tanrnrB"
      },
      "source": [
        "# Pose Detection with OpenPose\n",
        "\n",
        "This notebook uses an open source project [CMU-Perceptual-Computing-Lab/openpose](https://github.com/CMU-Perceptual-Computing-Lab/openpose.git) to detect single and multi person poses on the MPII Dataset\n"
      ]
    },
    {
      "cell_type": "markdown",
      "metadata": {
        "id": "4zDZCoNGT-CA"
      },
      "source": [
        "## Mount Google Drive"
      ]
    },
    {
      "cell_type": "code",
      "metadata": {
        "colab": {
          "base_uri": "https://localhost:8080/"
        },
        "id": "0fGVMvI0WNx2",
        "outputId": "ce65cb4d-bdae-40b6-8f68-eae798474ec5"
      },
      "source": [
        "from google.colab import drive\n",
        "drive.mount('/content/drive')"
      ],
      "execution_count": 1,
      "outputs": [
        {
          "output_type": "stream",
          "name": "stdout",
          "text": [
            "Mounted at /content/drive\n"
          ]
        }
      ]
    },
    {
      "cell_type": "markdown",
      "metadata": {
        "id": "CUreojffSlnJ"
      },
      "source": [
        "## Install OpenPose on Google Colab \n"
      ]
    },
    {
      "cell_type": "code",
      "metadata": {
        "id": "FOdkDhb6ga6N"
      },
      "source": [
        "import os\n",
        "from os.path import exists, join, basename, splitext\n",
        "\n",
        "git_repo_url = 'https://github.com/CMU-Perceptual-Computing-Lab/openpose.git'\n",
        "project_name = splitext(basename(git_repo_url))[0]\n",
        "\n",
        "if 1 or not exists(project_name):\n",
        "  !rm -rf openpose\n",
        "  # see: https://github.com/CMU-Perceptual-Computing-Lab/openpose/issues/949\n",
        "  print(\"install new CMake becaue of CUDA10\")\n",
        "  cmake_version = 'cmake-3.20.2-linux-x86_64.tar.gz'\n",
        "  if not exists(cmake_version):\n",
        "    !wget -q 'https://cmake.org/files/v3.20/{cmake_version}'\n",
        "  !tar xfz {cmake_version} --strip-components=1 -C /usr/local\n",
        "\n",
        "  print(\"clone openpose\")\n",
        "  !git clone -q --depth 1 $git_repo_url\n",
        "  print(\"install system dependencies\")\n",
        "  !apt-get -qq install -y libatlas-base-dev libprotobuf-dev libleveldb-dev libsnappy-dev libhdf5-serial-dev protobuf-compiler libgflags-dev libgoogle-glog-dev liblmdb-dev opencl-headers ocl-icd-opencl-dev libviennacl-dev\n",
        "  print(\"build openpose\")\n",
        "  !cd openpose && rm -rf build || true && mkdir build && cd build && cmake .. && make -j`nproc`\n",
        "\n",
        "\n"
      ],
      "execution_count": null,
      "outputs": []
    },
    {
      "cell_type": "markdown",
      "metadata": {
        "id": "fGbvxRMyhFvn"
      },
      "source": [
        "# From Google Drive - MPII DATASET"
      ]
    },
    {
      "cell_type": "code",
      "metadata": {
        "id": "3G994ZTVr6JS"
      },
      "source": [
        "#Extracting Images onto Drive (need to run only once)\n",
        "# Unzips the original MPII dataset (image.zip) and stores it in another directory in the Google Drive.\n",
        "\n",
        "!unzip -u \"/content/drive/MyDrive/CIS 581 Final Project/Project/images.zip\" -d \"/content/drive/MyDrive/CIS 581 Final Project/Project/Full MPII Dataset\""
      ],
      "execution_count": null,
      "outputs": []
    },
    {
      "cell_type": "code",
      "metadata": {
        "id": "ERn3eTzvg4BT"
      },
      "source": [
        "#Storing as Images with UI skeletons overlaid\n",
        "\n",
        "colab_image_path = '/content/drive/MyDrive/CIS 581 Final Project/Project/Full MPII Dataset'\n",
        "colab_openpose_image_path = '/content/drive/MyDrive/CIS 581 Final Project/Project/Full_MPII_Images_Output'\n",
        "\n",
        "!cd openpose && ./build/examples/openpose/openpose.bin --number_people_max 12 --image_dir '{colab_image_path}' --display 0 --write_images '{colab_openpose_image_path}' # --net_resolution \"-1x736\" --scale_number 4 --scale_gap 0.25"
      ],
      "execution_count": null,
      "outputs": []
    },
    {
      "cell_type": "code",
      "metadata": {
        "id": "vW8V9H6phgB3"
      },
      "source": [
        "#Storing as .json files\n",
        "\n",
        "colab_image_path = '/content/drive/MyDrive/CIS 581 Final Project/Project/Full MPII Dataset'\n",
        "colab_openpose_JSON_path = '/content/drive/MyDrive/CIS 581 Final Project/Project/Full_MPII_JSON_Output'\n",
        "\n",
        "!cd openpose && ./build/examples/openpose/openpose.bin --number_people_max 1 --image_dir '{colab_image_path}' --display 0 --write_json '{colab_openpose_JSON_path}' --render_pose 0 # --net_resolution \"-1x736\" --scale_number 4 --scale_gap 0.25"
      ],
      "execution_count": null,
      "outputs": []
    },
    {
      "cell_type": "markdown",
      "metadata": {
        "id": "BJJFS_Zi0v26"
      },
      "source": [
        "# Parsing JSON Files"
      ]
    },
    {
      "cell_type": "code",
      "metadata": {
        "id": "mtLOg07q05hK"
      },
      "source": [
        "import json\n",
        "import glob \n",
        "import numpy as np\n",
        "\n",
        "full_dataset_path = \"drive/MyDrive/CIS 581 Final Project/Project/Output_MPII_Full/*.json\"\n",
        "files = glob.glob(\"/content/\" + full_dataset_path)\n",
        "\n",
        "n_joints = 25\n",
        "\n",
        "dataset = []\n",
        "dataset2 = []\n",
        "c = 0\n",
        "\n",
        "#for each .json file\n",
        "for filename in files:\n",
        "    c+=1\n",
        "    with open(filename, 'r') as json_data:\n",
        "        python_dict = json.load(json_data)\n",
        "\n",
        "        #for each person detected in the image \n",
        "        for candidates in python_dict['people']:\n",
        "            \n",
        "            #extracting x,y coordinates\n",
        "            pose2dx = np.array(candidates['pose_keypoints_2d'][::3])\n",
        "            pose2dy = np.array(candidates['pose_keypoints_2d'][1::3])\n",
        "            pose2d = np.vstack((pose2dx, pose2dy)).T\n",
        "            dataset.append(pose2d)  #contains 2D pose\n",
        "\n",
        "            #parsing filename\n",
        "            head, tail = os.path.split(filename)\n",
        "            img_number = tail.split('_')\n",
        "            img_number = img_number[0] + \".jpg\"\n",
        "            dataset2.append(img_number)  #contains corresponding image numbers for visualization\n",
        "            \n",
        "        if(c == 20000):\n",
        "          break\n",
        "\n",
        "dataset = np.array(dataset)\n",
        "dataset2 = np.array(dataset2)"
      ],
      "execution_count": null,
      "outputs": []
    },
    {
      "cell_type": "code",
      "metadata": {
        "id": "__w-zQEC8cyx"
      },
      "source": [
        "#saving as .npy files \n",
        "test_file_path = \"/content/drive/MyDrive/CIS 581 Final Project/Project/dataset.npy\"\n",
        "np.save(test_file_path, dataset)\n",
        "\n",
        "test_file_path = \"/content/drive/MyDrive/CIS 581 Final Project/Project/dataset2.npy\"\n",
        "np.save(test_file_path, dataset2)"
      ],
      "execution_count": null,
      "outputs": []
    }
  ]
}
